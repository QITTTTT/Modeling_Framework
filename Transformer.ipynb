{
 "cells": [
  {
   "metadata": {},
   "cell_type": "markdown",
   "source": "# Transformer",
   "id": "eb18f7f2621a747c"
  },
  {
   "metadata": {},
   "cell_type": "code",
   "outputs": [],
   "execution_count": null,
   "source": [
    "import torch\n",
    "import numpy as np\n",
    "import torch.nn as nn\n",
    "import torch.nn.functional as F\n",
    "import math, copy, time"
   ],
   "id": "96777141b58ae2b8"
  },
  {
   "metadata": {},
   "cell_type": "markdown",
   "source": "## 编码器",
   "id": "8ab7637a5048fa15"
  },
  {
   "metadata": {},
   "cell_type": "markdown",
   "source": "编码器由6个相同的层堆叠成",
   "id": "a9211b944ebff587"
  },
  {
   "metadata": {},
   "cell_type": "code",
   "outputs": [],
   "execution_count": null,
   "source": [
    "class EncoderDecoder(nn.Module):\n",
    "       \"\"\"\n",
    "       A standard Encoder-Decoder architecture. Base for this and many other models\n",
    "       \"\"\"\n",
    "       def __init__(self, encoder, decoder, src_embed, tgt_embed, generator):\n",
    "              super().__init__()\n",
    "              self.encoder = encoder\n",
    "              self.decoder = decoder\n",
    "              self.src_embed = src_embed\n",
    "              self.tgt_embed = tgt_embed\n",
    "              self.generator = generator\n",
    "\n",
    "       def encode(self, src, src_mask):\n",
    "              return self.encoder(self.src_embed(src), src_mask)\n",
    "\n",
    "       def decode(self, memory, src_mask, tgt, tgt_mask):\n",
    "              return self.decoder(self.tgt_embed(tgt), memory, src_mask, tgt_mask)\n",
    "\n",
    "       def forward(self, src, tgt, src_mask, tgt_mask):\n",
    "              return self.decode(self.encode(src, src_mask), src_mask, tgt, tgt_mask)\n",
    "\n",
    "\n",
    "class Generator(nn.Module):\n",
    "    def __init__(self, d_model, vocab):\n",
    "        super().__init__()\n",
    "        self.proj = nn.Linear(d_model, vocab)\n",
    "\n",
    "    def forward(self, x):\n",
    "        return F.log_softmax(self.proj(x), dim=-1)\n",
    "\n",
    "def clones(module, N):\n",
    "    return nn.ModuleList([copy.deepcopy(module) for _ in range(N)])\n",
    "\n",
    "class LayerNorm(nn.Module):\n",
    "    \"\"\"Construct a layernorm module\"\"\"\n",
    "\n",
    "    def __init__(self, features, eps=1e-6):\n",
    "        super().__init__()\n",
    "        self.a_2 = nn.Parameter(torch.ones(features))\n",
    "        self.b_2 = nn.Parameter(torch.zeros(features))\n",
    "        self.eps = eps\n",
    "\n",
    "    def forward(self, x):\n",
    "        mean = x.mean(-1, keepdim=True)\n",
    "        std = x.std(-1, keepdim=True)\n",
    "        return self.a_2 * (x - mean)/(std + self.eps) + self.b_2\n",
    "\n",
    "class Encoder(nn.Module):\n",
    "    \"\"\"Core encoder is a stack of N layers\"\"\"\n",
    "    def __init__(self, layer, N):\n",
    "        super().__init__()\n",
    "        self.layers = clones(layer, N)\n",
    "        self.norm = LayerNorm(layer.size)\n",
    "\n",
    "    def forward(self, x, mask):\n",
    "        for layer in self.layers:\n",
    "            x = layer(x, mask)\n",
    "        return self.norm(x)\n",
    "\n",
    "class SublayerConnection(nn.Module):\n",
    "    \"\"\"残差连接\"\"\"\n",
    "    def __init__(self, size, dropout):\n",
    "        super().__init__()\n",
    "        self.norm = LayerNorm(size)\n",
    "        self.drop = nn.Dropout(dropout)\n",
    "\n",
    "    def forward(self, x, sublayer):\n",
    "        \"\"\"将残差连接应用于任意相同大小的子层\"\"\"\n",
    "        return x + self.drop(sublayer(self.norm(x)))"
   ],
   "id": "370d320bacf37d0"
  },
  {
   "metadata": {},
   "cell_type": "markdown",
   "source": "编码器层的每一层有两个子层，第一个是多头子注意力机制，第二个是全连接前馈网络",
   "id": "456b51ca3aaf1197"
  },
  {
   "metadata": {},
   "cell_type": "code",
   "outputs": [],
   "execution_count": null,
   "source": [
    "class EncoderLayer(nn.Module):\n",
    "\n",
    "    def __init__(self, size, self_attn, feed_forward, dropout):\n",
    "        super().__init__()\n",
    "        self.attn = self_attn\n",
    "        self.feed_forward = feed_forward\n",
    "        self.size = size\n",
    "        self.sublayer = clones(SublayerConnection(size, dropout), 2)\n",
    "\n",
    "    def forward(self, x, mask):\n",
    "        x = self.sublayer[0](x, lambda x: self.attn(x, x, x, mask))\n",
    "        return self.sublayer[1](x, self.feed_forward)"
   ],
   "id": "77c80825cf155f0"
  },
  {
   "metadata": {},
   "cell_type": "markdown",
   "source": "## Decoder",
   "id": "f5c9b626f8199eb2"
  },
  {
   "metadata": {},
   "cell_type": "markdown",
   "source": "解码器也由6个相同的层",
   "id": "228c9da14b962571"
  },
  {
   "metadata": {},
   "cell_type": "code",
   "outputs": [],
   "execution_count": null,
   "source": [
    "\n",
    "class Decoder(nn.Module):\n",
    "\n",
    "    def __init__(self, layer, N):\n",
    "        super().__init__()\n",
    "        self.layers = clones(layer, N)\n",
    "        self.norm = LayerNorm(layer.size)\n",
    "\n",
    "    def forward(self, x, memory, src_mask, tgt_mask):\n",
    "        for layer in self.layers:\n",
    "            x = layer(x, memory, src_mask, tgt_mask)\n",
    "        return self.norm(x)\n"
   ],
   "id": "9b8bd97fcbdafdd4"
  },
  {
   "metadata": {},
   "cell_type": "markdown",
   "source": "除了每个编码器层中的两个子层外，解码器还插入了一个第三子层，该子层对编码器堆栈的输出执行多头注意力机制。与编码器类似，我们在每个子层周围使用残差连接，然后进行层归一化。",
   "id": "f6fa132dbec8387a"
  },
  {
   "metadata": {},
   "cell_type": "code",
   "execution_count": null,
   "source": [
    "\n",
    "class DecoderLayer(nn.Module):\n",
    "    def __init__(self, size, self_attn, src_attn, feed_forward, dropout):\n",
    "        super().__init__()\n",
    "        self.size = size\n",
    "        self.attn = self_attn\n",
    "        self.src_attn = src_attn\n",
    "        self.feed_forward = feed_forward\n",
    "        self.sublayer = clones(SublayerConnection(size, dropout), 3)\n",
    "    def forward(self, x, memory, src_mask, tgt_mask):\n",
    "        m = memory\n",
    "        x = self.sublayer[0](x, lambda x: self.attn(x, x, x, tgt_mask))\n",
    "        x = self.sublayer[1](x, lambda x: self.src_attn(x, m, m, src_mask))\n",
    "        return self.sublayer[2](x, lambda x: self.feed_forward(x))"
   ],
   "id": "7f07d753b306ebf7",
   "outputs": []
  },
  {
   "metadata": {},
   "cell_type": "markdown",
   "source": [
    "修改了解码器堆栈中的自注意力子层，以防止位置关注到后续位置。这种掩码操作，加上输出嵌入偏移一个位置的事实，确保了对位置\n",
    "i 的预测只能依赖于位置小于\n",
    "i 的已知输出。"
   ],
   "id": "94df89c714c13ed9"
  },
  {
   "metadata": {},
   "cell_type": "code",
   "outputs": [],
   "execution_count": null,
   "source": [
    "\n",
    "def subsequent_mask(size):\n",
    "    \"\"\"mask out subsequent positions\"\"\"\n",
    "    attn_shape = (1, size, size)\n",
    "    subsequent_mask = torch.triu(torch.ones(attn_shape), diagonal=1).type(torch.int8)\n",
    "    return subsequent_mask == 0"
   ],
   "id": "2769723123436554"
  },
  {
   "metadata": {},
   "cell_type": "markdown",
   "source": "注意力函数",
   "id": "680e04b511f4a4a2"
  },
  {
   "metadata": {},
   "cell_type": "code",
   "execution_count": null,
   "source": [
    "\n",
    "def attention(query, key, value, mask=None, dropout=None):\n",
    "    \"\"\"Compute 'Scaled Dot Product Attention'\"\"\"\n",
    "    d_k = query.size(-1)\n",
    "    scores = torch.matul(query, key.transpose(-2, -1))/math.sqrt(d_k)\n",
    "    if mask is not None:\n",
    "        scores = scores.masked_fill(mask == 0, -1e9)\n",
    "    p_attn = scores.softmax(dim=-1)\n",
    "    if dropout is not None:\n",
    "        p_attn = dropout(p_attn)\n",
    "    return torch.matmul(p_attn, value), p_attn"
   ],
   "id": "bf2c72251948c9dd",
   "outputs": []
  },
  {
   "metadata": {},
   "cell_type": "markdown",
   "source": "多头注意力",
   "id": "713f74e32292fb0c"
  },
  {
   "metadata": {},
   "cell_type": "code",
   "outputs": [],
   "execution_count": null,
   "source": [
    "\n",
    "class MultiHeadedAttention(nn.Module):\n",
    "    def __init__(self, h, d_model, dropout=0.1):\n",
    "        super().__init__()\n",
    "        assert d_model % h == 0\n",
    "        # 假设d_v == d_k4\n",
    "        self.d_k = d_model // h\n",
    "        self.h = h\n",
    "        self.linears = clones(nn.Linear(d_model, d_model), 4)\n",
    "        self.attn = None\n",
    "        self.dropout = nn.Dropout(dropout)\n",
    "\n",
    "    def forward(self, query, key, value, mask=None):\n",
    "        if mask is not None:\n",
    "\n",
    "            mask = mask.unsqueeze(1)\n",
    "\n",
    "        nbatches = query.size(0)\n",
    "        #(batch_size, seq_len, d_model)->(batch_size, seq_len, num_heads, d_k)->(batch_size, num_heads, seq_len, d_k)\n",
    "        query, key, value = [linear(x).view(nbatches, -1, self.h, self.d_k).transpose(1, 2)\n",
    "                             for linear, x in zip(self.linears, (query, key, value))]\n",
    "\n",
    "        x, self.attn = attention(query, key, value, mask=mask, dropout=self.dropout)\n",
    "\n",
    "        x = x.transpose(1, 2).contiguous().view(nbatches, -1, self.h * self.d_k)\n",
    "        del query\n",
    "        del key\n",
    "        del value\n",
    "\n",
    "        return self.linears[-1](x)"
   ],
   "id": "6416dbb65f1b91ec"
  },
  {
   "metadata": {},
   "cell_type": "markdown",
   "source": "## 位置前馈网络",
   "id": "7bfc46dfdd728237"
  },
  {
   "metadata": {},
   "cell_type": "markdown",
   "source": "$$ FFN(x) = max(0, xW_{1} + b_{1})W_{2} + b_{2} $$",
   "id": "e776b33ab72bba0b"
  },
  {
   "metadata": {},
   "cell_type": "code",
   "outputs": [],
   "execution_count": null,
   "source": [
    "class PositionwiseFeedForward(nn.Module):\n",
    "\n",
    "    def __init__(self, d_model=512, d_ff=2048, dropout=0.1):\n",
    "        super().__init__()\n",
    "        self.w_1 = nn.Linear(d_model, d_ff)\n",
    "        self.w_2 = nn.Linear(d_ff, d_model)\n",
    "        self.dropout = nn.Dropout(dropout)\n",
    "    \n",
    "    def forward(self, x):\n",
    "\n",
    "        return self.w_2(self.dropout(self.w_1(x).relu()))"
   ],
   "id": "3212b9532971b10d"
  },
  {
   "metadata": {},
   "cell_type": "markdown",
   "source": "嵌入",
   "id": "9076c1fb2f018954"
  },
  {
   "metadata": {},
   "cell_type": "code",
   "outputs": [],
   "execution_count": null,
   "source": [
    "class Embeddings(nn.Module):\n",
    "    def __init__(self, d_model, vocab):\n",
    "        super().__init__()\n",
    "        self.lut = nn.Embedding(vocab, d_model)\n",
    "        self.d_model = d_model\n",
    "\n",
    "    def forward(self, x):\n",
    "        return  self.lut(x) * math.sqrt(self.d_model)"
   ],
   "id": "2bfab01e5c2fc603"
  },
  {
   "metadata": {},
   "cell_type": "markdown",
   "source": "位置编码",
   "id": "f6532102669b1739"
  },
  {
   "metadata": {},
   "cell_type": "code",
   "outputs": [],
   "execution_count": null,
   "source": [
    "\n",
    "class PositionalEncoding(nn.Module):\n",
    "    \"\"\"Implement the PE function\"\"\"\n",
    "    def __init__(self, d_model, dropout, max_len=5000):\n",
    "        super().__init__()\n",
    "        self.dropout = nn.Dropout(dropout)\n",
    "\n",
    "        pe = torch.zeros(max_len, d_model)\n",
    "        position = torch.arange(0, max_len).unsqueeze(1)\n",
    "        div_term = torch.exp(torch.arange(0, d_model, 2)* -(math.log(10000) / d_model))\n",
    "        pe[:, 0::2] = torch.sin(position * div_term)\n",
    "        pe[:, 1::2] = torch.cos(position * div_term)\n",
    "        pe = pe.unsqueeze(0)\n",
    "        self.register_buffer(\"pe\", pe)\n",
    "\n",
    "    def forward(self, x):\n",
    "        x = x + self.pe[:, x.size(1)]\n",
    "        return self.dropout(x)\n"
   ],
   "id": "d6091a65743b8121"
  },
  {
   "metadata": {},
   "cell_type": "markdown",
   "source": "## 完整模型",
   "id": "cc4625e84d5d8cb7"
  },
  {
   "metadata": {},
   "cell_type": "code",
   "outputs": [],
   "execution_count": null,
   "source": [
    "\n",
    "def make_model(\n",
    "    src_vocab, tgt_vocab,\n",
    "\n",
    "\n",
    ")\n"
   ],
   "id": "1be9d5d121aa806d"
  }
 ],
 "metadata": {},
 "nbformat": 4,
 "nbformat_minor": 5
}
